{
 "cells": [
  {
   "cell_type": "code",
   "execution_count": 1,
   "id": "d35cdff7",
   "metadata": {},
   "outputs": [
    {
     "name": "stdout",
     "output_type": "stream",
     "text": [
      "Requirement already satisfied: xlwt in c:\\users\\com01\\anaconda3\\lib\\site-packages (1.3.0)\n",
      "Note: you may need to restart the kernel to use updated packages.\n"
     ]
    }
   ],
   "source": [
    "pip install xlwt"
   ]
  },
  {
   "cell_type": "code",
   "execution_count": 2,
   "id": "c979477d",
   "metadata": {},
   "outputs": [
    {
     "name": "stdout",
     "output_type": "stream",
     "text": [
      "Requirement already satisfied: pandas-explode in c:\\users\\com01\\anaconda3\\lib\\site-packages (0.0.7)Note: you may need to restart the kernel to use updated packages.\n",
      "\n",
      "Requirement already satisfied: pandas in c:\\users\\com01\\anaconda3\\lib\\site-packages (from pandas-explode) (1.4.4)\n",
      "Requirement already satisfied: pytz>=2020.1 in c:\\users\\com01\\anaconda3\\lib\\site-packages (from pandas->pandas-explode) (2022.1)\n",
      "Requirement already satisfied: numpy>=1.18.5 in c:\\users\\com01\\anaconda3\\lib\\site-packages (from pandas->pandas-explode) (1.21.5)\n",
      "Requirement already satisfied: python-dateutil>=2.8.1 in c:\\users\\com01\\anaconda3\\lib\\site-packages (from pandas->pandas-explode) (2.8.2)\n",
      "Requirement already satisfied: six>=1.5 in c:\\users\\com01\\anaconda3\\lib\\site-packages (from python-dateutil>=2.8.1->pandas->pandas-explode) (1.16.0)\n"
     ]
    }
   ],
   "source": [
    "pip install pandas-explode"
   ]
  },
  {
   "cell_type": "code",
   "execution_count": 3,
   "id": "488c074e",
   "metadata": {},
   "outputs": [],
   "source": [
    "from selenium import webdriver\n",
    "from selenium.webdriver.common.keys import Keys\n",
    "from selenium.webdriver.support import expected_conditions as EC\n",
    "from selenium.webdriver.common.by import By\n",
    "from selenium.webdriver.support.wait import WebDriverWait\n",
    "import time\n",
    "import random\n",
    "import json\n",
    "from scholarly import scholarly\n",
    "import requests\n",
    "from bs4 import BeautifulSoup\n",
    "import re\n",
    "import csv\n",
    "import pandas as pd"
   ]
  },
  {
   "cell_type": "code",
   "execution_count": 4,
   "id": "82a72dd3",
   "metadata": {},
   "outputs": [],
   "source": [
    "chrome_options = webdriver.ChromeOptions()\n",
    "prefs = {\"profile.default_content_setting_values.notifications\" : 2}\n",
    "chrome_options.add_experimental_option(\"prefs\",prefs)"
   ]
  },
  {
   "cell_type": "code",
   "execution_count": 5,
   "id": "11566f78",
   "metadata": {},
   "outputs": [
    {
     "name": "stderr",
     "output_type": "stream",
     "text": [
      "C:\\Users\\COM01\\AppData\\Local\\Temp\\ipykernel_3924\\1363857600.py:1: DeprecationWarning: use options instead of chrome_options\n",
      "  driver = webdriver.Chrome(r\"C:\\Users\\COM01\\Downloads\\chromedriver_win32 (1)\\chromedriver.exe\", chrome_options=chrome_options)\n"
     ]
    }
   ],
   "source": [
    "driver = webdriver.Chrome(r\"C:\\Users\\COM01\\Downloads\\chromedriver_win32 (1)\\chromedriver.exe\", chrome_options=chrome_options)\n",
    "driver.get('https://id.elsevier.com/as/authorization.oauth2?platSite=SC%2Fscopus&ui_locales=en-US&scope=openid+profile+email+els_auth_info+els_analytics_info+urn%3Acom%3Aelsevier%3Aidp%3Apolicy%3Aproduct%3Aindv_identity&response_type=code&redirect_uri=https%3A%2F%2Fwww.scopus.com%2Fauthredirect.uri%3FtxGid%3D9a61dba451cc228daa0169ce70312254&state=userLogin%7CtxId%3D55A652A039C8CA86B02E36650AF69927.i-0dcf1575680fbeb33%3A5&authType=SINGLE_SIGN_IN&prompt=login&client_id=SCOPUS')\n",
    "# log-in by self"
   ]
  },
  {
   "cell_type": "code",
   "execution_count": 6,
   "id": "3552fe8f",
   "metadata": {},
   "outputs": [],
   "source": [
    "# read csv file \n",
    "# list scopus id into list_id\n",
    "data_all = pd.read_csv(r\"C:\\Users\\COM01\\Downloads\\5065-6330.csv\",encoding='latin1')\n",
    "list_id = [\"56667622500\", \"57222758601\"]"
   ]
  },
  {
   "cell_type": "code",
   "execution_count": 8,
   "id": "e2e63f87",
   "metadata": {
    "scrolled": true
   },
   "outputs": [
    {
     "ename": "NoSuchElementException",
     "evalue": "Message: no such element: Unable to locate element: {\"method\":\"xpath\",\"selector\":\"//*[@id=\"documents-panel\"]/div[2]/div/div[2]/div/els-results-layout/div[1]/ul/li[1]/div/div[1]/els-collapsible-panel-v2/div/button\"}\n  (Session info: chrome=112.0.5615.50)\n",
     "output_type": "error",
     "traceback": [
      "\u001b[1;31m---------------------------------------------------------------------------\u001b[0m",
      "\u001b[1;31mNoSuchElementException\u001b[0m                    Traceback (most recent call last)",
      "\u001b[1;32m~\\AppData\\Local\\Temp\\ipykernel_3924\\3544572638.py\u001b[0m in \u001b[0;36m<module>\u001b[1;34m\u001b[0m\n\u001b[0;32m      4\u001b[0m     \u001b[0mtime\u001b[0m\u001b[1;33m.\u001b[0m\u001b[0msleep\u001b[0m\u001b[1;33m(\u001b[0m\u001b[1;36m3\u001b[0m\u001b[1;33m)\u001b[0m\u001b[1;33m\u001b[0m\u001b[1;33m\u001b[0m\u001b[0m\n\u001b[0;32m      5\u001b[0m \u001b[1;33m\u001b[0m\u001b[0m\n\u001b[1;32m----> 6\u001b[1;33m     \u001b[0mbutton\u001b[0m \u001b[1;33m=\u001b[0m \u001b[0mdriver\u001b[0m\u001b[1;33m.\u001b[0m\u001b[0mfind_element\u001b[0m\u001b[1;33m(\u001b[0m\u001b[0mBy\u001b[0m\u001b[1;33m.\u001b[0m\u001b[0mXPATH\u001b[0m\u001b[1;33m,\u001b[0m \u001b[1;34m'//*[@id=\"documents-panel\"]/div[2]/div/div[2]/div/els-results-layout/div[1]/ul/li[1]/div/div[1]/els-collapsible-panel-v2/div/button'\u001b[0m\u001b[1;33m)\u001b[0m\u001b[1;33m\u001b[0m\u001b[1;33m\u001b[0m\u001b[0m\n\u001b[0m\u001b[0;32m      7\u001b[0m     \u001b[0mbutton\u001b[0m\u001b[1;33m.\u001b[0m\u001b[0mclick\u001b[0m\u001b[1;33m(\u001b[0m\u001b[1;33m)\u001b[0m\u001b[1;33m\u001b[0m\u001b[1;33m\u001b[0m\u001b[0m\n\u001b[0;32m      8\u001b[0m \u001b[1;33m\u001b[0m\u001b[0m\n",
      "\u001b[1;32m~\\anaconda3\\lib\\site-packages\\selenium\\webdriver\\remote\\webdriver.py\u001b[0m in \u001b[0;36mfind_element\u001b[1;34m(self, by, value)\u001b[0m\n\u001b[0;32m    974\u001b[0m                 \u001b[0mby\u001b[0m \u001b[1;33m=\u001b[0m \u001b[0mBy\u001b[0m\u001b[1;33m.\u001b[0m\u001b[0mCSS_SELECTOR\u001b[0m\u001b[1;33m\u001b[0m\u001b[1;33m\u001b[0m\u001b[0m\n\u001b[0;32m    975\u001b[0m                 \u001b[0mvalue\u001b[0m \u001b[1;33m=\u001b[0m \u001b[1;34m'[name=\"%s\"]'\u001b[0m \u001b[1;33m%\u001b[0m \u001b[0mvalue\u001b[0m\u001b[1;33m\u001b[0m\u001b[1;33m\u001b[0m\u001b[0m\n\u001b[1;32m--> 976\u001b[1;33m         return self.execute(Command.FIND_ELEMENT, {\n\u001b[0m\u001b[0;32m    977\u001b[0m             \u001b[1;34m'using'\u001b[0m\u001b[1;33m:\u001b[0m \u001b[0mby\u001b[0m\u001b[1;33m,\u001b[0m\u001b[1;33m\u001b[0m\u001b[1;33m\u001b[0m\u001b[0m\n\u001b[0;32m    978\u001b[0m             'value': value})['value']\n",
      "\u001b[1;32m~\\anaconda3\\lib\\site-packages\\selenium\\webdriver\\remote\\webdriver.py\u001b[0m in \u001b[0;36mexecute\u001b[1;34m(self, driver_command, params)\u001b[0m\n\u001b[0;32m    319\u001b[0m         \u001b[0mresponse\u001b[0m \u001b[1;33m=\u001b[0m \u001b[0mself\u001b[0m\u001b[1;33m.\u001b[0m\u001b[0mcommand_executor\u001b[0m\u001b[1;33m.\u001b[0m\u001b[0mexecute\u001b[0m\u001b[1;33m(\u001b[0m\u001b[0mdriver_command\u001b[0m\u001b[1;33m,\u001b[0m \u001b[0mparams\u001b[0m\u001b[1;33m)\u001b[0m\u001b[1;33m\u001b[0m\u001b[1;33m\u001b[0m\u001b[0m\n\u001b[0;32m    320\u001b[0m         \u001b[1;32mif\u001b[0m \u001b[0mresponse\u001b[0m\u001b[1;33m:\u001b[0m\u001b[1;33m\u001b[0m\u001b[1;33m\u001b[0m\u001b[0m\n\u001b[1;32m--> 321\u001b[1;33m             \u001b[0mself\u001b[0m\u001b[1;33m.\u001b[0m\u001b[0merror_handler\u001b[0m\u001b[1;33m.\u001b[0m\u001b[0mcheck_response\u001b[0m\u001b[1;33m(\u001b[0m\u001b[0mresponse\u001b[0m\u001b[1;33m)\u001b[0m\u001b[1;33m\u001b[0m\u001b[1;33m\u001b[0m\u001b[0m\n\u001b[0m\u001b[0;32m    322\u001b[0m             response['value'] = self._unwrap_value(\n\u001b[0;32m    323\u001b[0m                 response.get('value', None))\n",
      "\u001b[1;32m~\\anaconda3\\lib\\site-packages\\selenium\\webdriver\\remote\\errorhandler.py\u001b[0m in \u001b[0;36mcheck_response\u001b[1;34m(self, response)\u001b[0m\n\u001b[0;32m    240\u001b[0m                 \u001b[0malert_text\u001b[0m \u001b[1;33m=\u001b[0m \u001b[0mvalue\u001b[0m\u001b[1;33m[\u001b[0m\u001b[1;34m'alert'\u001b[0m\u001b[1;33m]\u001b[0m\u001b[1;33m.\u001b[0m\u001b[0mget\u001b[0m\u001b[1;33m(\u001b[0m\u001b[1;34m'text'\u001b[0m\u001b[1;33m)\u001b[0m\u001b[1;33m\u001b[0m\u001b[1;33m\u001b[0m\u001b[0m\n\u001b[0;32m    241\u001b[0m             \u001b[1;32mraise\u001b[0m \u001b[0mexception_class\u001b[0m\u001b[1;33m(\u001b[0m\u001b[0mmessage\u001b[0m\u001b[1;33m,\u001b[0m \u001b[0mscreen\u001b[0m\u001b[1;33m,\u001b[0m \u001b[0mstacktrace\u001b[0m\u001b[1;33m,\u001b[0m \u001b[0malert_text\u001b[0m\u001b[1;33m)\u001b[0m\u001b[1;33m\u001b[0m\u001b[1;33m\u001b[0m\u001b[0m\n\u001b[1;32m--> 242\u001b[1;33m         \u001b[1;32mraise\u001b[0m \u001b[0mexception_class\u001b[0m\u001b[1;33m(\u001b[0m\u001b[0mmessage\u001b[0m\u001b[1;33m,\u001b[0m \u001b[0mscreen\u001b[0m\u001b[1;33m,\u001b[0m \u001b[0mstacktrace\u001b[0m\u001b[1;33m)\u001b[0m\u001b[1;33m\u001b[0m\u001b[1;33m\u001b[0m\u001b[0m\n\u001b[0m\u001b[0;32m    243\u001b[0m \u001b[1;33m\u001b[0m\u001b[0m\n\u001b[0;32m    244\u001b[0m     \u001b[1;32mdef\u001b[0m \u001b[0m_value_or_default\u001b[0m\u001b[1;33m(\u001b[0m\u001b[0mself\u001b[0m\u001b[1;33m,\u001b[0m \u001b[0mobj\u001b[0m\u001b[1;33m,\u001b[0m \u001b[0mkey\u001b[0m\u001b[1;33m,\u001b[0m \u001b[0mdefault\u001b[0m\u001b[1;33m)\u001b[0m\u001b[1;33m:\u001b[0m\u001b[1;33m\u001b[0m\u001b[1;33m\u001b[0m\u001b[0m\n",
      "\u001b[1;31mNoSuchElementException\u001b[0m: Message: no such element: Unable to locate element: {\"method\":\"xpath\",\"selector\":\"//*[@id=\"documents-panel\"]/div[2]/div/div[2]/div/els-results-layout/div[1]/ul/li[1]/div/div[1]/els-collapsible-panel-v2/div/button\"}\n  (Session info: chrome=112.0.5615.50)\n"
     ]
    }
   ],
   "source": [
    "scholar = []\n",
    "for id in list_id:\n",
    "    driver.get(f'https://www.scopus.com/authid/detail.uri?authorId={id}')\n",
    "    time.sleep(3)\n",
    "    \n",
    "    button = driver.find_element(By.XPATH, '//*[@id=\"documents-panel\"]/div[2]/div/div[2]/div/els-results-layout/div[1]/ul/li[1]/div/div[1]/els-collapsible-panel-v2/div/button')\n",
    "    button.click()\n",
    "    \n",
    "    li_elements = driver.find_elements(By.XPATH, '//*[@id=\"documents-panel\"]/div[2]/div/div[2]/div/els-results-layout/div[1]/ul/li')\n",
    "\n",
    "    for li in li_elements:\n",
    "        button = li.find_element(By.XPATH, './/div/div/els-collapsible-panel-v2/div/button')\n",
    "        button.click()\n",
    "        \n",
    "\n",
    "    author_name = driver.find_element(By.XPATH, '//h1[@data-testid=\"author-profile-name\"]').text\n",
    "    author_id = id \n",
    "    num_doc = driver.find_element(By.XPATH, '(//*/span[@data-testid=\"unclickable-count\"])[2]').text\n",
    "    titile_date = driver.find_element(By.XPATH, '//*[@id=\"documents-panel\"]/div[2]/div/div[2]/div/els-results-layout/div[1]/ul/li[1]/div/div[1]/div[3]/span').text\n",
    "    \n",
    "    # show 200 result\n",
    "    \n",
    "    try:\n",
    "        driver.find_element(By.XPATH, '//*[@id=\"documents-panel\"]/div[2]/div/div[2]/div/els-results-layout/els-paginator/nav/els-select/div/label/select/option[5]').click()\n",
    "        time.sleep(3)\n",
    "    except:\n",
    "        pass\n",
    "    \n",
    "    research_list = []\n",
    "    researchs = driver.find_elements(By.XPATH, \"//*/els-results-layout//h4\")\n",
    "    for i in range(len(researchs)):\n",
    "        research_list.append(researchs[i].text)\n",
    "    \n",
    "    abs_list = []\n",
    "    abs = driver.find_elements(By.XPATH, '//*/els-results-layout//els-collapsible-panel-v2/section')\n",
    "    for i in range(len(abs)):\n",
    "        abs_list.append(abs[i].text)\n",
    "    \n",
    "    print(author_name, \"Number of Documents :\", num_doc)\n",
    "    \n",
    "\n",
    "    scopus = dict()\n",
    "    scopus['author_id']  = author_id\n",
    "    scopus['author_name'] = author_name\n",
    "    scopus['documents_number'] = num_doc\n",
    "    scopus['date'] = titile_date\n",
    "    scopus['documents'] = list()\n",
    "    for i in range(int(num_doc.split(\" \")[0])):\n",
    "        temp_dict = dict()\n",
    "        temp_dict['title'] = research_list[i]\n",
    "        \n",
    "        try : \n",
    "            temp_dict['abstraction'] = abs_list[i]\n",
    "        except :\n",
    "            abstraction.append('n/a')\n",
    "            \n",
    "        scopus['documents'].append(temp_dict)\n",
    "\n",
    "    scholar.append(scopus)"
   ]
  },
  {
   "cell_type": "code",
   "execution_count": null,
   "id": "371454b5",
   "metadata": {
    "scrolled": true
   },
   "outputs": [],
   "source": [
    "scholar"
   ]
  },
  {
   "cell_type": "code",
   "execution_count": null,
   "id": "8fc00236",
   "metadata": {},
   "outputs": [],
   "source": [
    "df1 = pd.DataFrame(scholar, columns = ['author_id', 'author_name', 'documents_number',\n",
    "                                           'citiations' , 'h-index' , 'co-authors' , 'documents'])"
   ]
  },
  {
   "cell_type": "code",
   "execution_count": null,
   "id": "276e1ee4",
   "metadata": {},
   "outputs": [],
   "source": [
    "df1"
   ]
  },
  {
   "cell_type": "code",
   "execution_count": null,
   "id": "e5e3cd0a",
   "metadata": {},
   "outputs": [],
   "source": [
    "df1['documents'][0]"
   ]
  },
  {
   "cell_type": "code",
   "execution_count": null,
   "id": "59adb878",
   "metadata": {},
   "outputs": [],
   "source": [
    "type(df1['documents'][0])"
   ]
  },
  {
   "cell_type": "code",
   "execution_count": null,
   "id": "7a5ff3fb",
   "metadata": {},
   "outputs": [],
   "source": [
    "df1['documents'][0][1]"
   ]
  },
  {
   "cell_type": "code",
   "execution_count": null,
   "id": "b4d25910",
   "metadata": {},
   "outputs": [],
   "source": [
    "df1=df1.explode('documents')\n",
    "df1"
   ]
  },
  {
   "cell_type": "code",
   "execution_count": null,
   "id": "4b3617c2",
   "metadata": {
    "scrolled": true
   },
   "outputs": [],
   "source": [
    "df1['main_title']=df1['documents'].apply(lambda v:v)\n",
    "df1"
   ]
  },
  {
   "cell_type": "code",
   "execution_count": null,
   "id": "51cd74eb",
   "metadata": {},
   "outputs": [],
   "source": [
    "df1['main_abstract']=df1['main_title'].apply(lambda v:v)\n",
    "df1"
   ]
  },
  {
   "cell_type": "code",
   "execution_count": null,
   "id": "678b73d8",
   "metadata": {},
   "outputs": [],
   "source": [
    "df1['main_title'].apply(lambda v: v['title'])"
   ]
  },
  {
   "cell_type": "code",
   "execution_count": null,
   "id": "d3f9d325",
   "metadata": {
    "scrolled": true
   },
   "outputs": [],
   "source": [
    "df1['Title']=df1['main_title'].apply(lambda v:v['title'])\n",
    "df1"
   ]
  },
  {
   "cell_type": "code",
   "execution_count": null,
   "id": "5dcd4940",
   "metadata": {
    "scrolled": true
   },
   "outputs": [],
   "source": [
    "df1['main_abstract'].apply(lambda v: v['abstraction'])"
   ]
  },
  {
   "cell_type": "code",
   "execution_count": null,
   "id": "50ccb3e2",
   "metadata": {
    "scrolled": true
   },
   "outputs": [],
   "source": [
    "df1['Abstraction']=df1['main_abstract'].apply(lambda v:v['abstraction'])\n",
    "df1"
   ]
  },
  {
   "cell_type": "code",
   "execution_count": null,
   "id": "5480cc32",
   "metadata": {
    "scrolled": true
   },
   "outputs": [],
   "source": [
    "df1.drop(['documents' , 'main_title' , 'main_abstract' , 'documents_number'], axis=1)"
   ]
  },
  {
   "cell_type": "code",
   "execution_count": null,
   "id": "351b02b2",
   "metadata": {},
   "outputs": [],
   "source": [
    "df1.to_xlsx('resercher_all.xlsx',index=False)"
   ]
  }
 ],
 "metadata": {
  "kernelspec": {
   "display_name": "Python 3 (ipykernel)",
   "language": "python",
   "name": "python3"
  },
  "language_info": {
   "codemirror_mode": {
    "name": "ipython",
    "version": 3
   },
   "file_extension": ".py",
   "mimetype": "text/x-python",
   "name": "python",
   "nbconvert_exporter": "python",
   "pygments_lexer": "ipython3",
   "version": "3.9.13"
  }
 },
 "nbformat": 4,
 "nbformat_minor": 5
}
